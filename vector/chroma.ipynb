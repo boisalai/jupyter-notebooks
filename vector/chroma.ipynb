{
 "cells": [
  {
   "cell_type": "markdown",
   "id": "e7c2dfa9",
   "metadata": {},
   "source": [
    "# Chroma Vector Database\n",
    "\n",
    "About [ChromaDB](https://docs.trychroma.com/):\n",
    "\n",
    "* https://docs.trychroma.com/getting-started\n",
    "* https://docs.trychroma.com/usage-guide"
   ]
  },
  {
   "cell_type": "code",
   "execution_count": 2,
   "id": "b3830741",
   "metadata": {},
   "outputs": [
    {
     "name": "stdout",
     "output_type": "stream",
     "text": [
      "Requirement already satisfied: chromadb==0.3.21 in /opt/homebrew/lib/python3.10/site-packages (0.3.21)\n",
      "Requirement already satisfied: pydantic>=1.9 in /opt/homebrew/lib/python3.10/site-packages (from chromadb==0.3.21) (1.10.4)\n",
      "Requirement already satisfied: sentence-transformers>=2.2.2 in /opt/homebrew/lib/python3.10/site-packages (from chromadb==0.3.21) (2.2.2)\n",
      "Requirement already satisfied: requests>=2.28 in /opt/homebrew/lib/python3.10/site-packages (from chromadb==0.3.21) (2.28.1)\n",
      "Requirement already satisfied: hnswlib>=0.7 in /opt/homebrew/lib/python3.10/site-packages (from chromadb==0.3.21) (0.7.0)\n",
      "Requirement already satisfied: fastapi>=0.85.1 in /opt/homebrew/lib/python3.10/site-packages (from chromadb==0.3.21) (0.89.1)\n",
      "Requirement already satisfied: duckdb>=0.7.1 in /opt/homebrew/lib/python3.10/site-packages (from chromadb==0.3.21) (0.8.1)\n",
      "Requirement already satisfied: posthog>=2.4.0 in /opt/homebrew/lib/python3.10/site-packages (from chromadb==0.3.21) (3.0.1)\n",
      "Requirement already satisfied: uvicorn[standard]>=0.18.3 in /opt/homebrew/lib/python3.10/site-packages (from chromadb==0.3.21) (0.20.0)\n",
      "Requirement already satisfied: pandas>=1.3 in /opt/homebrew/lib/python3.10/site-packages (from chromadb==0.3.21) (1.5.1)\n",
      "Requirement already satisfied: numpy>=1.21.6 in /opt/homebrew/lib/python3.10/site-packages (from chromadb==0.3.21) (1.23.4)\n",
      "Requirement already satisfied: clickhouse-connect>=0.5.7 in /opt/homebrew/lib/python3.10/site-packages (from chromadb==0.3.21) (0.6.2)\n",
      "Requirement already satisfied: certifi in /opt/homebrew/lib/python3.10/site-packages (from clickhouse-connect>=0.5.7->chromadb==0.3.21) (2022.9.24)\n",
      "Requirement already satisfied: lz4 in /opt/homebrew/lib/python3.10/site-packages (from clickhouse-connect>=0.5.7->chromadb==0.3.21) (4.3.2)\n",
      "Requirement already satisfied: zstandard in /opt/homebrew/lib/python3.10/site-packages (from clickhouse-connect>=0.5.7->chromadb==0.3.21) (0.21.0)\n",
      "Requirement already satisfied: pytz in /opt/homebrew/lib/python3.10/site-packages (from clickhouse-connect>=0.5.7->chromadb==0.3.21) (2022.5)\n",
      "Requirement already satisfied: urllib3>=1.26 in /opt/homebrew/lib/python3.10/site-packages (from clickhouse-connect>=0.5.7->chromadb==0.3.21) (1.26.12)\n",
      "Requirement already satisfied: starlette==0.22.0 in /opt/homebrew/lib/python3.10/site-packages (from fastapi>=0.85.1->chromadb==0.3.21) (0.22.0)\n",
      "Requirement already satisfied: anyio<5,>=3.4.0 in /opt/homebrew/lib/python3.10/site-packages (from starlette==0.22.0->fastapi>=0.85.1->chromadb==0.3.21) (3.6.2)\n",
      "Requirement already satisfied: python-dateutil>=2.8.1 in /opt/homebrew/lib/python3.10/site-packages (from pandas>=1.3->chromadb==0.3.21) (2.8.2)\n",
      "Requirement already satisfied: backoff>=1.10.0 in /opt/homebrew/lib/python3.10/site-packages (from posthog>=2.4.0->chromadb==0.3.21) (2.2.1)\n",
      "Requirement already satisfied: six>=1.5 in /opt/homebrew/lib/python3.10/site-packages (from posthog>=2.4.0->chromadb==0.3.21) (1.16.0)\n",
      "Requirement already satisfied: monotonic>=1.5 in /opt/homebrew/lib/python3.10/site-packages (from posthog>=2.4.0->chromadb==0.3.21) (1.6)\n",
      "Requirement already satisfied: typing-extensions>=4.2.0 in /opt/homebrew/lib/python3.10/site-packages (from pydantic>=1.9->chromadb==0.3.21) (4.4.0)\n",
      "Requirement already satisfied: idna<4,>=2.5 in /opt/homebrew/lib/python3.10/site-packages (from requests>=2.28->chromadb==0.3.21) (3.4)\n",
      "Requirement already satisfied: charset-normalizer<3,>=2 in /opt/homebrew/lib/python3.10/site-packages (from requests>=2.28->chromadb==0.3.21) (2.1.1)\n",
      "Requirement already satisfied: huggingface-hub>=0.4.0 in /opt/homebrew/lib/python3.10/site-packages (from sentence-transformers>=2.2.2->chromadb==0.3.21) (0.15.1)\n",
      "Requirement already satisfied: nltk in /opt/homebrew/lib/python3.10/site-packages (from sentence-transformers>=2.2.2->chromadb==0.3.21) (3.8.1)\n",
      "Requirement already satisfied: transformers<5.0.0,>=4.6.0 in /opt/homebrew/lib/python3.10/site-packages (from sentence-transformers>=2.2.2->chromadb==0.3.21) (4.30.2)\n",
      "Requirement already satisfied: sentencepiece in /opt/homebrew/lib/python3.10/site-packages (from sentence-transformers>=2.2.2->chromadb==0.3.21) (0.1.99)\n",
      "Requirement already satisfied: torchvision in /opt/homebrew/lib/python3.10/site-packages (from sentence-transformers>=2.2.2->chromadb==0.3.21) (0.15.2)\n",
      "Requirement already satisfied: scipy in /opt/homebrew/lib/python3.10/site-packages (from sentence-transformers>=2.2.2->chromadb==0.3.21) (1.9.3)\n",
      "Requirement already satisfied: tqdm in /opt/homebrew/lib/python3.10/site-packages (from sentence-transformers>=2.2.2->chromadb==0.3.21) (4.65.0)\n",
      "Requirement already satisfied: scikit-learn in /opt/homebrew/lib/python3.10/site-packages (from sentence-transformers>=2.2.2->chromadb==0.3.21) (1.2.0)\n",
      "Requirement already satisfied: torch>=1.6.0 in /opt/homebrew/lib/python3.10/site-packages (from sentence-transformers>=2.2.2->chromadb==0.3.21) (2.0.1)\n",
      "Requirement already satisfied: click>=7.0 in /opt/homebrew/lib/python3.10/site-packages (from uvicorn[standard]>=0.18.3->chromadb==0.3.21) (8.1.3)\n",
      "Requirement already satisfied: h11>=0.8 in /opt/homebrew/lib/python3.10/site-packages (from uvicorn[standard]>=0.18.3->chromadb==0.3.21) (0.12.0)\n",
      "Requirement already satisfied: websockets>=10.4 in /opt/homebrew/lib/python3.10/site-packages (from uvicorn[standard]>=0.18.3->chromadb==0.3.21) (11.0.3)\n",
      "Requirement already satisfied: python-dotenv>=0.13 in /opt/homebrew/lib/python3.10/site-packages (from uvicorn[standard]>=0.18.3->chromadb==0.3.21) (1.0.0)\n",
      "Requirement already satisfied: pyyaml>=5.1 in /opt/homebrew/lib/python3.10/site-packages (from uvicorn[standard]>=0.18.3->chromadb==0.3.21) (6.0)\n",
      "Requirement already satisfied: uvloop!=0.15.0,!=0.15.1,>=0.14.0 in /opt/homebrew/lib/python3.10/site-packages (from uvicorn[standard]>=0.18.3->chromadb==0.3.21) (0.17.0)\n",
      "Requirement already satisfied: httptools>=0.5.0 in /opt/homebrew/lib/python3.10/site-packages (from uvicorn[standard]>=0.18.3->chromadb==0.3.21) (0.5.0)\n",
      "Requirement already satisfied: watchfiles>=0.13 in /opt/homebrew/lib/python3.10/site-packages (from uvicorn[standard]>=0.18.3->chromadb==0.3.21) (0.19.0)\n",
      "Requirement already satisfied: filelock in /opt/homebrew/lib/python3.10/site-packages (from huggingface-hub>=0.4.0->sentence-transformers>=2.2.2->chromadb==0.3.21) (3.8.0)\n",
      "Requirement already satisfied: fsspec in /opt/homebrew/lib/python3.10/site-packages (from huggingface-hub>=0.4.0->sentence-transformers>=2.2.2->chromadb==0.3.21) (2023.1.0)\n",
      "Requirement already satisfied: packaging>=20.9 in /opt/homebrew/lib/python3.10/site-packages (from huggingface-hub>=0.4.0->sentence-transformers>=2.2.2->chromadb==0.3.21) (21.3)\n",
      "Requirement already satisfied: networkx in /opt/homebrew/lib/python3.10/site-packages (from torch>=1.6.0->sentence-transformers>=2.2.2->chromadb==0.3.21) (3.1)\n",
      "Requirement already satisfied: jinja2 in /opt/homebrew/lib/python3.10/site-packages (from torch>=1.6.0->sentence-transformers>=2.2.2->chromadb==0.3.21) (3.1.2)\n",
      "Requirement already satisfied: sympy in /opt/homebrew/lib/python3.10/site-packages (from torch>=1.6.0->sentence-transformers>=2.2.2->chromadb==0.3.21) (1.12)\n",
      "Requirement already satisfied: safetensors>=0.3.1 in /opt/homebrew/lib/python3.10/site-packages (from transformers<5.0.0,>=4.6.0->sentence-transformers>=2.2.2->chromadb==0.3.21) (0.3.1)\n",
      "Requirement already satisfied: regex!=2019.12.17 in /opt/homebrew/lib/python3.10/site-packages (from transformers<5.0.0,>=4.6.0->sentence-transformers>=2.2.2->chromadb==0.3.21) (2022.10.31)\n",
      "Requirement already satisfied: tokenizers!=0.11.3,<0.14,>=0.11.1 in /opt/homebrew/lib/python3.10/site-packages (from transformers<5.0.0,>=4.6.0->sentence-transformers>=2.2.2->chromadb==0.3.21) (0.13.3)\n",
      "Requirement already satisfied: joblib in /opt/homebrew/lib/python3.10/site-packages (from nltk->sentence-transformers>=2.2.2->chromadb==0.3.21) (1.2.0)\n",
      "Requirement already satisfied: threadpoolctl>=2.0.0 in /opt/homebrew/lib/python3.10/site-packages (from scikit-learn->sentence-transformers>=2.2.2->chromadb==0.3.21) (3.1.0)\n",
      "Requirement already satisfied: pillow!=8.3.*,>=5.3.0 in /opt/homebrew/lib/python3.10/site-packages (from torchvision->sentence-transformers>=2.2.2->chromadb==0.3.21) (9.3.0)\n",
      "Requirement already satisfied: sniffio>=1.1 in /opt/homebrew/lib/python3.10/site-packages (from anyio<5,>=3.4.0->starlette==0.22.0->fastapi>=0.85.1->chromadb==0.3.21) (1.3.0)\n",
      "Requirement already satisfied: pyparsing!=3.0.5,>=2.0.2 in /opt/homebrew/lib/python3.10/site-packages (from packaging>=20.9->huggingface-hub>=0.4.0->sentence-transformers>=2.2.2->chromadb==0.3.21) (3.0.9)\n"
     ]
    },
    {
     "name": "stdout",
     "output_type": "stream",
     "text": [
      "Requirement already satisfied: MarkupSafe>=2.0 in /opt/homebrew/lib/python3.10/site-packages (from jinja2->torch>=1.6.0->sentence-transformers>=2.2.2->chromadb==0.3.21) (2.1.1)\n",
      "Requirement already satisfied: mpmath>=0.19 in /opt/homebrew/lib/python3.10/site-packages (from sympy->torch>=1.6.0->sentence-transformers>=2.2.2->chromadb==0.3.21) (1.3.0)\n",
      "\n",
      "\u001b[1m[\u001b[0m\u001b[34;49mnotice\u001b[0m\u001b[1;39;49m]\u001b[0m\u001b[39;49m A new release of pip is available: \u001b[0m\u001b[31;49m23.0.1\u001b[0m\u001b[39;49m -> \u001b[0m\u001b[32;49m23.1.2\u001b[0m\n",
      "\u001b[1m[\u001b[0m\u001b[34;49mnotice\u001b[0m\u001b[1;39;49m]\u001b[0m\u001b[39;49m To update, run: \u001b[0m\u001b[32;49mpython3.10 -m pip install --upgrade pip\u001b[0m\n",
      "Note: you may need to restart the kernel to use updated packages.\n"
     ]
    }
   ],
   "source": [
    "%pip install chromadb==0.3.21"
   ]
  },
  {
   "cell_type": "markdown",
   "id": "3210737f",
   "metadata": {},
   "source": [
    "The [NewsCatcher](https://newscatcherapi.com/) dataset can be downloaded from [Kaggle](https://www.kaggle.com/kotartemiy/topic-labeled-news-dataset)."
   ]
  },
  {
   "cell_type": "code",
   "execution_count": 3,
   "id": "7a677c08",
   "metadata": {},
   "outputs": [
    {
     "data": {
      "text/html": [
       "<div>\n",
       "<style scoped>\n",
       "    .dataframe tbody tr th:only-of-type {\n",
       "        vertical-align: middle;\n",
       "    }\n",
       "\n",
       "    .dataframe tbody tr th {\n",
       "        vertical-align: top;\n",
       "    }\n",
       "\n",
       "    .dataframe thead th {\n",
       "        text-align: right;\n",
       "    }\n",
       "</style>\n",
       "<table border=\"1\" class=\"dataframe\">\n",
       "  <thead>\n",
       "    <tr style=\"text-align: right;\">\n",
       "      <th></th>\n",
       "      <th>topic</th>\n",
       "      <th>link</th>\n",
       "      <th>domain</th>\n",
       "      <th>published_date</th>\n",
       "      <th>title</th>\n",
       "      <th>lang</th>\n",
       "      <th>id</th>\n",
       "    </tr>\n",
       "  </thead>\n",
       "  <tbody>\n",
       "    <tr>\n",
       "      <th>0</th>\n",
       "      <td>SCIENCE</td>\n",
       "      <td>https://www.eurekalert.org/pub_releases/2020-0...</td>\n",
       "      <td>eurekalert.org</td>\n",
       "      <td>2020-08-06 13:59:45</td>\n",
       "      <td>A closer look at water-splitting's solar fuel ...</td>\n",
       "      <td>en</td>\n",
       "      <td>0</td>\n",
       "    </tr>\n",
       "    <tr>\n",
       "      <th>1</th>\n",
       "      <td>SCIENCE</td>\n",
       "      <td>https://www.pulse.ng/news/world/an-irresistibl...</td>\n",
       "      <td>pulse.ng</td>\n",
       "      <td>2020-08-12 15:14:19</td>\n",
       "      <td>An irresistible scent makes locusts swarm, stu...</td>\n",
       "      <td>en</td>\n",
       "      <td>1</td>\n",
       "    </tr>\n",
       "    <tr>\n",
       "      <th>2</th>\n",
       "      <td>SCIENCE</td>\n",
       "      <td>https://www.express.co.uk/news/science/1322607...</td>\n",
       "      <td>express.co.uk</td>\n",
       "      <td>2020-08-13 21:01:00</td>\n",
       "      <td>Artificial intelligence warning: AI will know ...</td>\n",
       "      <td>en</td>\n",
       "      <td>2</td>\n",
       "    </tr>\n",
       "    <tr>\n",
       "      <th>3</th>\n",
       "      <td>SCIENCE</td>\n",
       "      <td>https://www.ndtv.com/world-news/glaciers-could...</td>\n",
       "      <td>ndtv.com</td>\n",
       "      <td>2020-08-03 22:18:26</td>\n",
       "      <td>Glaciers Could Have Sculpted Mars Valleys: Study</td>\n",
       "      <td>en</td>\n",
       "      <td>3</td>\n",
       "    </tr>\n",
       "    <tr>\n",
       "      <th>4</th>\n",
       "      <td>SCIENCE</td>\n",
       "      <td>https://www.thesun.ie/tech/5742187/perseid-met...</td>\n",
       "      <td>thesun.ie</td>\n",
       "      <td>2020-08-12 19:54:36</td>\n",
       "      <td>Perseid meteor shower 2020: What time and how ...</td>\n",
       "      <td>en</td>\n",
       "      <td>4</td>\n",
       "    </tr>\n",
       "    <tr>\n",
       "      <th>...</th>\n",
       "      <td>...</td>\n",
       "      <td>...</td>\n",
       "      <td>...</td>\n",
       "      <td>...</td>\n",
       "      <td>...</td>\n",
       "      <td>...</td>\n",
       "      <td>...</td>\n",
       "    </tr>\n",
       "    <tr>\n",
       "      <th>108769</th>\n",
       "      <td>NATION</td>\n",
       "      <td>https://www.vanguardngr.com/2020/08/pdp-govern...</td>\n",
       "      <td>vanguardngr.com</td>\n",
       "      <td>2020-08-08 02:40:00</td>\n",
       "      <td>PDP governors’ forum urges security agencies t...</td>\n",
       "      <td>en</td>\n",
       "      <td>108769</td>\n",
       "    </tr>\n",
       "    <tr>\n",
       "      <th>108770</th>\n",
       "      <td>BUSINESS</td>\n",
       "      <td>https://www.patentlyapple.com/patently-apple/2...</td>\n",
       "      <td>patentlyapple.com</td>\n",
       "      <td>2020-08-08 01:27:12</td>\n",
       "      <td>In Q2-20, Apple Dominated the Premium Smartpho...</td>\n",
       "      <td>en</td>\n",
       "      <td>108770</td>\n",
       "    </tr>\n",
       "    <tr>\n",
       "      <th>108771</th>\n",
       "      <td>HEALTH</td>\n",
       "      <td>https://www.belfastlive.co.uk/news/health/coro...</td>\n",
       "      <td>belfastlive.co.uk</td>\n",
       "      <td>2020-08-12 17:01:00</td>\n",
       "      <td>Coronavirus Northern Ireland: Full breakdown s...</td>\n",
       "      <td>en</td>\n",
       "      <td>108771</td>\n",
       "    </tr>\n",
       "    <tr>\n",
       "      <th>108772</th>\n",
       "      <td>ENTERTAINMENT</td>\n",
       "      <td>https://www.thenews.com.pk/latest/696364-paul-...</td>\n",
       "      <td>thenews.com.pk</td>\n",
       "      <td>2020-08-05 04:59:00</td>\n",
       "      <td>Paul McCartney details post-Beatles distress a...</td>\n",
       "      <td>en</td>\n",
       "      <td>108772</td>\n",
       "    </tr>\n",
       "    <tr>\n",
       "      <th>108773</th>\n",
       "      <td>SPORTS</td>\n",
       "      <td>https://www.balls.ie/football/shane-duffy-brig...</td>\n",
       "      <td>balls.ie</td>\n",
       "      <td>2020-08-09 10:25:26</td>\n",
       "      <td>Report: Talks Underway To Keep Shane Duffy In ...</td>\n",
       "      <td>en</td>\n",
       "      <td>108773</td>\n",
       "    </tr>\n",
       "  </tbody>\n",
       "</table>\n",
       "<p>108774 rows × 7 columns</p>\n",
       "</div>"
      ],
      "text/plain": [
       "                topic                                               link  \\\n",
       "0             SCIENCE  https://www.eurekalert.org/pub_releases/2020-0...   \n",
       "1             SCIENCE  https://www.pulse.ng/news/world/an-irresistibl...   \n",
       "2             SCIENCE  https://www.express.co.uk/news/science/1322607...   \n",
       "3             SCIENCE  https://www.ndtv.com/world-news/glaciers-could...   \n",
       "4             SCIENCE  https://www.thesun.ie/tech/5742187/perseid-met...   \n",
       "...               ...                                                ...   \n",
       "108769         NATION  https://www.vanguardngr.com/2020/08/pdp-govern...   \n",
       "108770       BUSINESS  https://www.patentlyapple.com/patently-apple/2...   \n",
       "108771         HEALTH  https://www.belfastlive.co.uk/news/health/coro...   \n",
       "108772  ENTERTAINMENT  https://www.thenews.com.pk/latest/696364-paul-...   \n",
       "108773         SPORTS  https://www.balls.ie/football/shane-duffy-brig...   \n",
       "\n",
       "                   domain       published_date  \\\n",
       "0          eurekalert.org  2020-08-06 13:59:45   \n",
       "1                pulse.ng  2020-08-12 15:14:19   \n",
       "2           express.co.uk  2020-08-13 21:01:00   \n",
       "3                ndtv.com  2020-08-03 22:18:26   \n",
       "4               thesun.ie  2020-08-12 19:54:36   \n",
       "...                   ...                  ...   \n",
       "108769    vanguardngr.com  2020-08-08 02:40:00   \n",
       "108770  patentlyapple.com  2020-08-08 01:27:12   \n",
       "108771  belfastlive.co.uk  2020-08-12 17:01:00   \n",
       "108772     thenews.com.pk  2020-08-05 04:59:00   \n",
       "108773           balls.ie  2020-08-09 10:25:26   \n",
       "\n",
       "                                                    title lang      id  \n",
       "0       A closer look at water-splitting's solar fuel ...   en       0  \n",
       "1       An irresistible scent makes locusts swarm, stu...   en       1  \n",
       "2       Artificial intelligence warning: AI will know ...   en       2  \n",
       "3        Glaciers Could Have Sculpted Mars Valleys: Study   en       3  \n",
       "4       Perseid meteor shower 2020: What time and how ...   en       4  \n",
       "...                                                   ...  ...     ...  \n",
       "108769  PDP governors’ forum urges security agencies t...   en  108769  \n",
       "108770  In Q2-20, Apple Dominated the Premium Smartpho...   en  108770  \n",
       "108771  Coronavirus Northern Ireland: Full breakdown s...   en  108771  \n",
       "108772  Paul McCartney details post-Beatles distress a...   en  108772  \n",
       "108773  Report: Talks Underway To Keep Shane Duffy In ...   en  108773  \n",
       "\n",
       "[108774 rows x 7 columns]"
      ]
     },
     "metadata": {},
     "output_type": "display_data"
    }
   ],
   "source": [
    "import pandas as pd\n",
    "\n",
    "pdf = pd.read_csv(\"labelled_newscatcher_dataset.csv\", sep=\";\")\n",
    "pdf[\"id\"] = pdf.index\n",
    "display(pdf)"
   ]
  },
  {
   "cell_type": "code",
   "execution_count": 6,
   "id": "8d46e960",
   "metadata": {},
   "outputs": [],
   "source": [
    "pdf_subset = pdf.head(1000)"
   ]
  },
  {
   "cell_type": "code",
   "execution_count": 4,
   "id": "8d2825fa",
   "metadata": {},
   "outputs": [
    {
     "name": "stderr",
     "output_type": "stream",
     "text": [
      "Using embedded DuckDB with persistence: data will be stored in: ~/test/chroma\n"
     ]
    }
   ],
   "source": [
    "import chromadb\n",
    "from chromadb.config import Settings\n",
    "\n",
    "chroma_client = chromadb.Client(\n",
    "    Settings(chroma_db_impl=\"duckdb+parquet\",\n",
    "    persist_directory=\"~/test/chroma\")\n",
    ")"
   ]
  },
  {
   "cell_type": "code",
   "execution_count": 5,
   "id": "4f789cc4",
   "metadata": {},
   "outputs": [
    {
     "name": "stderr",
     "output_type": "stream",
     "text": [
      "No embedding_function provided, using default embedding function: SentenceTransformerEmbeddingFunction\n"
     ]
    },
    {
     "name": "stdout",
     "output_type": "stream",
     "text": [
      "Creating collection: 'my_news'\n"
     ]
    },
    {
     "name": "stderr",
     "output_type": "stream",
     "text": [
      "/opt/homebrew/lib/python3.10/site-packages/tqdm/auto.py:21: TqdmWarning: IProgress not found. Please update jupyter and ipywidgets. See https://ipywidgets.readthedocs.io/en/stable/user_install.html\n",
      "  from .autonotebook import tqdm as notebook_tqdm\n"
     ]
    }
   ],
   "source": [
    "collection_name = \"my_news\"\n",
    "\n",
    "# If you have created the collection before, you need delete the collection first\n",
    "if len(chroma_client.list_collections()) > 0 and collection_name in [\n",
    "    chroma_client.list_collections()[0].name\n",
    "]:\n",
    "    chroma_client.delete_collection(name=collection_name)\n",
    "else:\n",
    "    print(f\"Creating collection: '{collection_name}'\")\n",
    "    collection = chroma_client.create_collection(name=collection_name)"
   ]
  },
  {
   "cell_type": "markdown",
   "id": "f9fd2374",
   "metadata": {},
   "source": [
    "Add data to collection."
   ]
  },
  {
   "cell_type": "code",
   "execution_count": 7,
   "id": "3fdd2e8e",
   "metadata": {},
   "outputs": [],
   "source": [
    "collection.add(\n",
    "    documents=pdf_subset[\"title\"][:100].tolist(),\n",
    "    metadatas=[{\"topic\": topic} for topic in pdf_subset[\"topic\"][:100].tolist()],\n",
    "    ids=[f\"id{x}\" for x in range(100)],\n",
    ")"
   ]
  },
  {
   "cell_type": "markdown",
   "id": "94596479",
   "metadata": {},
   "source": [
    "Query for 10 relevant documents on \"space\"."
   ]
  },
  {
   "cell_type": "code",
   "execution_count": 8,
   "id": "ee6763eb",
   "metadata": {},
   "outputs": [
    {
     "name": "stdout",
     "output_type": "stream",
     "text": [
      "{\n",
      "    \"ids\": [\n",
      "        [\n",
      "            \"id72\",\n",
      "            \"id7\",\n",
      "            \"id30\",\n",
      "            \"id26\",\n",
      "            \"id23\",\n",
      "            \"id76\",\n",
      "            \"id69\",\n",
      "            \"id40\",\n",
      "            \"id47\",\n",
      "            \"id75\"\n",
      "        ]\n",
      "    ],\n",
      "    \"embeddings\": null,\n",
      "    \"documents\": [\n",
      "        [\n",
      "            \"Beck teams up with NASA and AI for 'Hyperspace' visual album experience\",\n",
      "            \"Orbital space tourism set for rebirth in 2021\",\n",
      "            \"NASA drops \\\"insensitive\\\" nicknames for cosmic objects\",\n",
      "            \"\\u2018It came alive:\\u2019 NASA astronauts describe experiencing splashdown in SpaceX Dragon\",\n",
      "            \"Hubble Uses Moon As \\u201cMirror\\u201d to Study Earth\\u2019s Atmosphere \\u2013 Proxy in Search of Potentially Habitable Planets Around Other Stars\",\n",
      "            \"Australia's small yet crucial part in the mission to find life on Mars\",\n",
      "            \"NASA Astronauts in SpaceX Capsule Splashdown in Gulf Of Mexico\",\n",
      "            \"SpaceX's Starship spacecraft saw 150 meters high\",\n",
      "            \"NASA\\u2019s InSight lander shows what\\u2019s beneath Mars\\u2019 surface\",\n",
      "            \"Alien base on Mercury: ET hunters claim to find huge UFO\"\n",
      "        ]\n",
      "    ],\n",
      "    \"metadatas\": [\n",
      "        [\n",
      "            {\n",
      "                \"topic\": \"TECHNOLOGY\"\n",
      "            },\n",
      "            {\n",
      "                \"topic\": \"SCIENCE\"\n",
      "            },\n",
      "            {\n",
      "                \"topic\": \"SCIENCE\"\n",
      "            },\n",
      "            {\n",
      "                \"topic\": \"SCIENCE\"\n",
      "            },\n",
      "            {\n",
      "                \"topic\": \"SCIENCE\"\n",
      "            },\n",
      "            {\n",
      "                \"topic\": \"SCIENCE\"\n",
      "            },\n",
      "            {\n",
      "                \"topic\": \"SCIENCE\"\n",
      "            },\n",
      "            {\n",
      "                \"topic\": \"SCIENCE\"\n",
      "            },\n",
      "            {\n",
      "                \"topic\": \"SCIENCE\"\n",
      "            },\n",
      "            {\n",
      "                \"topic\": \"SCIENCE\"\n",
      "            }\n",
      "        ]\n",
      "    ],\n",
      "    \"distances\": [\n",
      "        [\n",
      "            1.2250349521636963,\n",
      "            1.308976650238037,\n",
      "            1.3910387754440308,\n",
      "            1.4064617156982422,\n",
      "            1.4391295909881592,\n",
      "            1.489880084991455,\n",
      "            1.5728237628936768,\n",
      "            1.5738130807876587,\n",
      "            1.5835293531417847,\n",
      "            1.5864630937576294\n",
      "        ]\n",
      "    ]\n",
      "}\n"
     ]
    }
   ],
   "source": [
    "import json\n",
    "\n",
    "results = collection.query(query_texts=[\"space\"], n_results=10)\n",
    "\n",
    "print(json.dumps(results, indent=4))"
   ]
  },
  {
   "cell_type": "markdown",
   "id": "b83320bf",
   "metadata": {},
   "source": [
    "Add filter statement."
   ]
  },
  {
   "cell_type": "code",
   "execution_count": 9,
   "id": "9c81d909",
   "metadata": {},
   "outputs": [
    {
     "data": {
      "text/plain": [
       "{'ids': [['id7',\n",
       "   'id30',\n",
       "   'id26',\n",
       "   'id23',\n",
       "   'id76',\n",
       "   'id69',\n",
       "   'id40',\n",
       "   'id47',\n",
       "   'id75',\n",
       "   'id52']],\n",
       " 'embeddings': None,\n",
       " 'documents': [['Orbital space tourism set for rebirth in 2021',\n",
       "   'NASA drops \"insensitive\" nicknames for cosmic objects',\n",
       "   '‘It came alive:’ NASA astronauts describe experiencing splashdown in SpaceX Dragon',\n",
       "   'Hubble Uses Moon As “Mirror” to Study Earth’s Atmosphere – Proxy in Search of Potentially Habitable Planets Around Other Stars',\n",
       "   \"Australia's small yet crucial part in the mission to find life on Mars\",\n",
       "   'NASA Astronauts in SpaceX Capsule Splashdown in Gulf Of Mexico',\n",
       "   \"SpaceX's Starship spacecraft saw 150 meters high\",\n",
       "   'NASA’s InSight lander shows what’s beneath Mars’ surface',\n",
       "   'Alien base on Mercury: ET hunters claim to find huge UFO',\n",
       "   'SpaceX Crew-1 mission with NASA, first fully operational crewed mission to space to launch in October']],\n",
       " 'metadatas': [[{'topic': 'SCIENCE'},\n",
       "   {'topic': 'SCIENCE'},\n",
       "   {'topic': 'SCIENCE'},\n",
       "   {'topic': 'SCIENCE'},\n",
       "   {'topic': 'SCIENCE'},\n",
       "   {'topic': 'SCIENCE'},\n",
       "   {'topic': 'SCIENCE'},\n",
       "   {'topic': 'SCIENCE'},\n",
       "   {'topic': 'SCIENCE'},\n",
       "   {'topic': 'SCIENCE'}]],\n",
       " 'distances': [[1.308976650238037,\n",
       "   1.3910387754440308,\n",
       "   1.4064617156982422,\n",
       "   1.4391295909881592,\n",
       "   1.489880084991455,\n",
       "   1.5728237628936768,\n",
       "   1.5738130807876587,\n",
       "   1.5835293531417847,\n",
       "   1.5864630937576294,\n",
       "   1.5984292030334473]]}"
      ]
     },
     "execution_count": 9,
     "metadata": {},
     "output_type": "execute_result"
    }
   ],
   "source": [
    "collection.query(query_texts=[\"space\"], where={\"topic\": \"SCIENCE\"}, n_results=10)"
   ]
  },
  {
   "cell_type": "markdown",
   "id": "2dc560ba",
   "metadata": {},
   "source": [
    "Prompt engineering for question answering."
   ]
  },
  {
   "cell_type": "code",
   "execution_count": 10,
   "id": "2a951b3d",
   "metadata": {},
   "outputs": [
    {
     "name": "stderr",
     "output_type": "stream",
     "text": [
      "Xformers is not installed correctly. If you want to use memory_efficient_attention to accelerate training use the following command to install Xformers\n",
      "pip install xformers.\n"
     ]
    }
   ],
   "source": [
    "from transformers import AutoTokenizer, AutoModelForCausalLM, pipeline\n",
    "\n",
    "model_id = \"gpt2\"\n",
    "datasets = \".\"  # The dataset is in the current folder.\n",
    "tokenizer = AutoTokenizer.from_pretrained(model_id, cache_dir=datasets)\n",
    "lm_model = AutoModelForCausalLM.from_pretrained(model_id, cache_dir=datasets)\n",
    "\n",
    "pipe = pipeline(\n",
    "    \"text-generation\",\n",
    "    model=lm_model,\n",
    "    tokenizer=tokenizer,\n",
    "    max_new_tokens=512,\n",
    "    device_map=\"auto\",\n",
    ")"
   ]
  },
  {
   "cell_type": "code",
   "execution_count": 11,
   "id": "2d743a79",
   "metadata": {},
   "outputs": [],
   "source": [
    "question = \"What's the latest news on space development?\"\n",
    "context = \" \".join([f\"#{str(i)}\" for i in results[\"documents\"][0]])\n",
    "prompt_template = f\"Relevant context: {context}\\n\\n The user's question: {question}\""
   ]
  },
  {
   "cell_type": "code",
   "execution_count": 12,
   "id": "94c38f2b",
   "metadata": {},
   "outputs": [
    {
     "name": "stderr",
     "output_type": "stream",
     "text": [
      "Setting `pad_token_id` to `eos_token_id`:50256 for open-end generation.\n"
     ]
    },
    {
     "name": "stdout",
     "output_type": "stream",
     "text": [
      "Relevant context: #Beck teams up with NASA and AI for 'Hyperspace' visual album experience #Orbital space tourism set for rebirth in 2021 #NASA drops \"insensitive\" nicknames for cosmic objects #‘It came alive:’ NASA astronauts describe experiencing splashdown in SpaceX Dragon #Hubble Uses Moon As “Mirror” to Study Earth’s Atmosphere – Proxy in Search of Potentially Habitable Planets Around Other Stars #Australia's small yet crucial part in the mission to find life on Mars #NASA Astronauts in SpaceX Capsule Splashdown in Gulf Of Mexico #SpaceX's Starship spacecraft saw 150 meters high #NASA’s InSight lander shows what’s beneath Mars’ surface #Alien base on Mercury: ET hunters claim to find huge UFO\n",
      "\n",
      " The user's question: What's the latest news on space development?\n"
     ]
    }
   ],
   "source": [
    "lm_response = pipe(prompt_template)\n",
    "print(lm_response[0][\"generated_text\"])"
   ]
  }
 ],
 "metadata": {
  "kernelspec": {
   "display_name": "Python 3 (ipykernel)",
   "language": "python",
   "name": "python3"
  },
  "language_info": {
   "codemirror_mode": {
    "name": "ipython",
    "version": 3
   },
   "file_extension": ".py",
   "mimetype": "text/x-python",
   "name": "python",
   "nbconvert_exporter": "python",
   "pygments_lexer": "ipython3",
   "version": "3.10.11"
  }
 },
 "nbformat": 4,
 "nbformat_minor": 5
}
